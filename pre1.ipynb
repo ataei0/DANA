{
  "cells": [
    {
      "cell_type": "markdown",
      "metadata": {
        "id": "view-in-github",
        "colab_type": "text"
      },
      "source": [
        "<a href=\"https://colab.research.google.com/github/ataei0/DANA/blob/master/pre1.ipynb\" target=\"_parent\"><img src=\"https://colab.research.google.com/assets/colab-badge.svg\" alt=\"Open In Colab\"/></a>"
      ]
    },
    {
      "cell_type": "markdown",
      "source": [
        "**Reading data**\n",
        "\n",
        "First of all, we load our npz data to make sure what are its contents"
      ],
      "metadata": {
        "id": "JJqno1E3CROM"
      }
    },
    {
      "cell_type": "code",
      "source": [
        "from google.colab import drive\n",
        "drive.mount('/content/drive')"
      ],
      "metadata": {
        "id": "f33aWFsgyxGX",
        "outputId": "5d73bb34-ea66-42d5-aafc-dad3024a3ad3",
        "colab": {
          "base_uri": "https://localhost:8080/"
        }
      },
      "execution_count": 1,
      "outputs": [
        {
          "output_type": "stream",
          "name": "stdout",
          "text": [
            "Drive already mounted at /content/drive; to attempt to forcibly remount, call drive.mount(\"/content/drive\", force_remount=True).\n"
          ]
        }
      ]
    },
    {
      "cell_type": "code",
      "source": [
        "from numpy import load\n",
        "\n",
        "Data = load('/content/drive/MyDrive/Matrix Data/sparse_matrix.npz')\n",
        "lst = Data.files\n",
        "for item in lst:\n",
        "    print(item)\n",
        "    print(Data[item])"
      ],
      "metadata": {
        "id": "RfTTUbwjzHZg",
        "outputId": "a32e022f-5dd6-4a1b-93d7-2a5a6c88e2e9",
        "colab": {
          "base_uri": "https://localhost:8080/"
        }
      },
      "execution_count": 2,
      "outputs": [
        {
          "output_type": "stream",
          "name": "stdout",
          "text": [
            "indices\n",
            "[ 11103  31853  31854 ... 276253 368921 384959]\n",
            "indptr\n",
            "[        0       192       228 ... 113376415 113376545 113376558]\n",
            "format\n",
            "b'csr'\n",
            "shape\n",
            "[933095 398351]\n",
            "data\n",
            "[ 1.75086936 12.19738324 12.20355765 ... 18.7720261  34.64588635\n",
            " 21.07869619]\n"
          ]
        }
      ]
    },
    {
      "cell_type": "markdown",
      "source": [
        "We have a csr_matrix (row compressed) data;\n",
        "to work with this data, we use scipy library as bellow"
      ],
      "metadata": {
        "id": "Cx76N3g_CilB"
      }
    },
    {
      "cell_type": "code",
      "source": [
        "!pip install scipy"
      ],
      "metadata": {
        "id": "yxGI7nhyzRcw",
        "outputId": "b7dc3609-a9a8-4bc9-a5a7-b69a6c6106f4",
        "colab": {
          "base_uri": "https://localhost:8080/"
        }
      },
      "execution_count": 3,
      "outputs": [
        {
          "output_type": "stream",
          "name": "stdout",
          "text": [
            "Looking in indexes: https://pypi.org/simple, https://us-python.pkg.dev/colab-wheels/public/simple/\n",
            "Requirement already satisfied: scipy in /usr/local/lib/python3.8/dist-packages (1.7.3)\n",
            "Requirement already satisfied: numpy<1.23.0,>=1.16.5 in /usr/local/lib/python3.8/dist-packages (from scipy) (1.21.6)\n"
          ]
        }
      ]
    },
    {
      "cell_type": "code",
      "source": [
        "from scipy import sparse\n",
        "import numpy as np\n",
        "\n",
        "temp_data = np.load('/content/drive/MyDrive/Matrix Data/sparse_matrix.npz')\n",
        "M_data = sparse.csr_matrix((temp_data['data'], temp_data['indices'], temp_data['indptr']), shape = temp_data['shape']) "
      ],
      "metadata": {
        "id": "xjRxlqPb3auX"
      },
      "execution_count": 2,
      "outputs": []
    },
    {
      "cell_type": "code",
      "source": [
        "M_data[3]"
      ],
      "metadata": {
        "id": "dFhbpy4_C5f-",
        "outputId": "7645266a-9066-4536-b0cc-9a86168fecae",
        "colab": {
          "base_uri": "https://localhost:8080/"
        }
      },
      "execution_count": 21,
      "outputs": [
        {
          "output_type": "execute_result",
          "data": {
            "text/plain": [
              "<1x398351 sparse matrix of type '<class 'numpy.float64'>'\n",
              "\twith 28 stored elements in Compressed Sparse Row format>"
            ]
          },
          "metadata": {},
          "execution_count": 21
        }
      ]
    },
    {
      "cell_type": "markdown",
      "source": [
        "each row contains a lot of 0 terms, for getting a sense of our data we look at non-zero elemnts in it."
      ],
      "metadata": {
        "id": "7d94s8afDHrl"
      }
    },
    {
      "cell_type": "code",
      "source": [
        "from scipy.sparse import csr_matrix\n",
        "with open ('/content/drive/MyDrive/data0.txt', 'w') as f:\n",
        "  for i in range(933095):\n",
        "    f.write('Row: ' + str(i))\n",
        "    f.write(str(csr_matrix(M_data[i])))\n",
        "    f.write('\\n')\n"
      ],
      "metadata": {
        "id": "n2EPzr0L6EIr"
      },
      "execution_count": 20,
      "outputs": []
    },
    {
      "cell_type": "code",
      "source": [
        "import matplotlib.pyplot as plt\n",
        "plt.spy(M_data)\n",
        "plt.show()"
      ],
      "metadata": {
        "id": "wVywLANaLFP4",
        "outputId": "d6219895-0bcb-4265-b126-087783342c4f",
        "colab": {
          "base_uri": "https://localhost:8080/",
          "height": 269
        }
      },
      "execution_count": 3,
      "outputs": [
        {
          "output_type": "display_data",
          "data": {
            "text/plain": [
              "<Figure size 432x288 with 1 Axes>"
            ],
            "image/png": "[encoded data removed]"
          },
          "metadata": {
            "needs_background": "light"
          }
        }
      ]
    },
    {
      "cell_type": "code",
      "source": [
        "!pip install umap"
      ],
      "metadata": {
        "id": "M-50n126cSwJ",
        "outputId": "4838e242-8081-4242-fb6f-2bf946a6c0db",
        "colab": {
          "base_uri": "https://localhost:8080/"
        }
      },
      "execution_count": 6,
      "outputs": [
        {
          "output_type": "stream",
          "name": "stdout",
          "text": [
            "Looking in indexes: https://pypi.org/simple, https://us-python.pkg.dev/colab-wheels/public/simple/\n",
            "Requirement already satisfied: umap in /usr/local/lib/python3.8/dist-packages (0.1.1)\n"
          ]
        }
      ]
    },
    {
      "cell_type": "code",
      "source": [
        "!pip install umap-learn[plot]"
      ],
      "metadata": {
        "id": "w5jj6I1IdVZZ",
        "outputId": "bc27ab81-ca1e-4f46-907d-eb09ccc77bad",
        "colab": {
          "base_uri": "https://localhost:8080/"
        }
      },
      "execution_count": 8,
      "outputs": [
        {
          "output_type": "stream",
          "name": "stdout",
          "text": [
            "Looking in indexes: https://pypi.org/simple, https://us-python.pkg.dev/colab-wheels/public/simple/\n",
            "Requirement already satisfied: umap-learn[plot] in /usr/local/lib/python3.8/dist-packages (0.5.3)\n",
            "Requirement already satisfied: scipy>=1.0 in /usr/local/lib/python3.8/dist-packages (from umap-learn[plot]) (1.7.3)\n",
            "Requirement already satisfied: numba>=0.49 in /usr/local/lib/python3.8/dist-packages (from umap-learn[plot]) (0.56.4)\n",
            "Requirement already satisfied: tqdm in /usr/local/lib/python3.8/dist-packages (from umap-learn[plot]) (4.64.1)\n",
            "Requirement already satisfied: numpy>=1.17 in /usr/local/lib/python3.8/dist-packages (from umap-learn[plot]) (1.21.6)\n",
            "Requirement already satisfied: scikit-learn>=0.22 in /usr/local/lib/python3.8/dist-packages (from umap-learn[plot]) (1.0.2)\n",
            "Requirement already satisfied: pynndescent>=0.5 in /usr/local/lib/python3.8/dist-packages (from umap-learn[plot]) (0.5.8)\n",
            "Requirement already satisfied: holoviews in /usr/local/lib/python3.8/dist-packages (from umap-learn[plot]) (1.14.9)\n",
            "Requirement already satisfied: scikit-image in /usr/local/lib/python3.8/dist-packages (from umap-learn[plot]) (0.18.3)\n",
            "Collecting datashader\n",
            "  Downloading datashader-0.14.3-py2.py3-none-any.whl (18.2 MB)\n",
            "\u001b[K     |████████████████████████████████| 18.2 MB 5.7 MB/s \n",
            "\u001b[?25hRequirement already satisfied: matplotlib in /usr/local/lib/python3.8/dist-packages (from umap-learn[plot]) (3.2.2)\n",
            "Requirement already satisfied: bokeh in /usr/local/lib/python3.8/dist-packages (from umap-learn[plot]) (2.3.3)\n",
            "Requirement already satisfied: seaborn in /usr/local/lib/python3.8/dist-packages (from umap-learn[plot]) (0.11.2)\n",
            "Requirement already satisfied: colorcet in /usr/local/lib/python3.8/dist-packages (from umap-learn[plot]) (3.0.1)\n",
            "Requirement already satisfied: pandas in /usr/local/lib/python3.8/dist-packages (from umap-learn[plot]) (1.3.5)\n",
            "Requirement already satisfied: llvmlite<0.40,>=0.39.0dev0 in /usr/local/lib/python3.8/dist-packages (from numba>=0.49->umap-learn[plot]) (0.39.1)\n",
            "Requirement already satisfied: setuptools in /usr/local/lib/python3.8/dist-packages (from numba>=0.49->umap-learn[plot]) (57.4.0)\n",
            "Requirement already satisfied: importlib-metadata in /usr/local/lib/python3.8/dist-packages (from numba>=0.49->umap-learn[plot]) (4.13.0)\n",
            "Requirement already satisfied: joblib>=0.11 in /usr/local/lib/python3.8/dist-packages (from pynndescent>=0.5->umap-learn[plot]) (1.2.0)\n",
            "Requirement already satisfied: threadpoolctl>=2.0.0 in /usr/local/lib/python3.8/dist-packages (from scikit-learn>=0.22->umap-learn[plot]) (3.1.0)\n",
            "Requirement already satisfied: pillow>=7.1.0 in /usr/local/lib/python3.8/dist-packages (from bokeh->umap-learn[plot]) (7.1.2)\n",
            "Requirement already satisfied: packaging>=16.8 in /usr/local/lib/python3.8/dist-packages (from bokeh->umap-learn[plot]) (21.3)\n",
            "Requirement already satisfied: tornado>=5.1 in /usr/local/lib/python3.8/dist-packages (from bokeh->umap-learn[plot]) (6.0.4)\n",
            "Requirement already satisfied: typing-extensions>=3.7.4 in /usr/local/lib/python3.8/dist-packages (from bokeh->umap-learn[plot]) (4.4.0)\n",
            "Requirement already satisfied: python-dateutil>=2.1 in /usr/local/lib/python3.8/dist-packages (from bokeh->umap-learn[plot]) (2.8.2)\n",
            "Requirement already satisfied: PyYAML>=3.10 in /usr/local/lib/python3.8/dist-packages (from bokeh->umap-learn[plot]) (6.0)\n",
            "Requirement already satisfied: Jinja2>=2.9 in /usr/local/lib/python3.8/dist-packages (from bokeh->umap-learn[plot]) (2.11.3)\n",
            "Requirement already satisfied: MarkupSafe>=0.23 in /usr/local/lib/python3.8/dist-packages (from Jinja2>=2.9->bokeh->umap-learn[plot]) (2.0.1)\n",
            "Requirement already satisfied: pyparsing!=3.0.5,>=2.0.2 in /usr/local/lib/python3.8/dist-packages (from packaging>=16.8->bokeh->umap-learn[plot]) (3.0.9)\n",
            "Requirement already satisfied: six>=1.5 in /usr/local/lib/python3.8/dist-packages (from python-dateutil>=2.1->bokeh->umap-learn[plot]) (1.15.0)\n",
            "Requirement already satisfied: pyct>=0.4.4 in /usr/local/lib/python3.8/dist-packages (from colorcet->umap-learn[plot]) (0.4.8)\n",
            "Requirement already satisfied: param>=1.7.0 in /usr/local/lib/python3.8/dist-packages (from pyct>=0.4.4->colorcet->umap-learn[plot]) (1.12.2)\n",
            "Requirement already satisfied: requests in /usr/local/lib/python3.8/dist-packages (from datashader->umap-learn[plot]) (2.23.0)\n",
            "Requirement already satisfied: dask in /usr/local/lib/python3.8/dist-packages (from datashader->umap-learn[plot]) (2022.2.1)\n",
            "Requirement already satisfied: toolz in /usr/local/lib/python3.8/dist-packages (from datashader->umap-learn[plot]) (0.12.0)\n",
            "Collecting datashape\n",
            "  Downloading datashape-0.5.2.tar.gz (76 kB)\n",
            "\u001b[K     |████████████████████████████████| 76 kB 6.1 MB/s \n",
            "\u001b[?25hRequirement already satisfied: xarray in /usr/local/lib/python3.8/dist-packages (from datashader->umap-learn[plot]) (0.20.2)\n",
            "Requirement already satisfied: cloudpickle>=1.1.1 in /usr/local/lib/python3.8/dist-packages (from dask->datashader->umap-learn[plot]) (1.5.0)\n",
            "Requirement already satisfied: fsspec>=0.6.0 in /usr/local/lib/python3.8/dist-packages (from dask->datashader->umap-learn[plot]) (2022.11.0)\n",
            "Requirement already satisfied: partd>=0.3.10 in /usr/local/lib/python3.8/dist-packages (from dask->datashader->umap-learn[plot]) (1.3.0)\n",
            "Requirement already satisfied: locket in /usr/local/lib/python3.8/dist-packages (from partd>=0.3.10->dask->datashader->umap-learn[plot]) (1.0.0)\n",
            "Requirement already satisfied: multipledispatch>=0.4.7 in /usr/local/lib/python3.8/dist-packages (from datashape->datashader->umap-learn[plot]) (0.6.0)\n",
            "Requirement already satisfied: pyviz-comms>=0.7.4 in /usr/local/lib/python3.8/dist-packages (from holoviews->umap-learn[plot]) (2.2.1)\n",
            "Requirement already satisfied: panel>=0.8.0 in /usr/local/lib/python3.8/dist-packages (from holoviews->umap-learn[plot]) (0.12.1)\n",
            "Requirement already satisfied: pytz>=2017.3 in /usr/local/lib/python3.8/dist-packages (from pandas->umap-learn[plot]) (2022.6)\n",
            "Requirement already satisfied: markdown in /usr/local/lib/python3.8/dist-packages (from panel>=0.8.0->holoviews->umap-learn[plot]) (3.4.1)\n",
            "Requirement already satisfied: bleach in /usr/local/lib/python3.8/dist-packages (from panel>=0.8.0->holoviews->umap-learn[plot]) (5.0.1)\n",
            "Requirement already satisfied: webencodings in /usr/local/lib/python3.8/dist-packages (from bleach->panel>=0.8.0->holoviews->umap-learn[plot]) (0.5.1)\n",
            "Requirement already satisfied: zipp>=0.5 in /usr/local/lib/python3.8/dist-packages (from importlib-metadata->numba>=0.49->umap-learn[plot]) (3.11.0)\n",
            "Requirement already satisfied: kiwisolver>=1.0.1 in /usr/local/lib/python3.8/dist-packages (from matplotlib->umap-learn[plot]) (1.4.4)\n",
            "Requirement already satisfied: cycler>=0.10 in /usr/local/lib/python3.8/dist-packages (from matplotlib->umap-learn[plot]) (0.11.0)\n",
            "Requirement already satisfied: chardet<4,>=3.0.2 in /usr/local/lib/python3.8/dist-packages (from requests->datashader->umap-learn[plot]) (3.0.4)\n",
            "Requirement already satisfied: idna<3,>=2.5 in /usr/local/lib/python3.8/dist-packages (from requests->datashader->umap-learn[plot]) (2.10)\n",
            "Requirement already satisfied: certifi>=2017.4.17 in /usr/local/lib/python3.8/dist-packages (from requests->datashader->umap-learn[plot]) (2022.9.24)\n",
            "Requirement already satisfied: urllib3!=1.25.0,!=1.25.1,<1.26,>=1.21.1 in /usr/local/lib/python3.8/dist-packages (from requests->datashader->umap-learn[plot]) (1.24.3)\n",
            "Requirement already satisfied: networkx>=2.0 in /usr/local/lib/python3.8/dist-packages (from scikit-image->umap-learn[plot]) (2.8.8)\n",
            "Requirement already satisfied: imageio>=2.3.0 in /usr/local/lib/python3.8/dist-packages (from scikit-image->umap-learn[plot]) (2.9.0)\n",
            "Requirement already satisfied: tifffile>=2019.7.26 in /usr/local/lib/python3.8/dist-packages (from scikit-image->umap-learn[plot]) (2022.10.10)\n",
            "Requirement already satisfied: PyWavelets>=1.1.1 in /usr/local/lib/python3.8/dist-packages (from scikit-image->umap-learn[plot]) (1.4.1)\n",
            "Building wheels for collected packages: datashape\n",
            "  Building wheel for datashape (setup.py) ... \u001b[?25l\u001b[?25hdone\n",
            "  Created wheel for datashape: filename=datashape-0.5.2-py3-none-any.whl size=59439 sha256=55718d4d83cf8f5648504e779caff20b374a30755fec61b1cb79abf970c32819\n",
            "  Stored in directory: /root/.cache/pip/wheels/6d/79/c4/c425774559165f472d32e5ef592ff9a71179abb31f05dbc98b\n",
            "Successfully built datashape\n",
            "Installing collected packages: datashape, datashader\n",
            "Successfully installed datashader-0.14.3 datashape-0.5.2\n"
          ]
        }
      ]
    },
    {
      "cell_type": "code",
      "source": [
        "!pip uninstall umap\n",
        "!pip install umap-learn"
      ],
      "metadata": {
        "id": "XDcIBRPdfaBH",
        "outputId": "2aa0f180-f7b3-4f18-b3c1-3f31280d2b1c",
        "colab": {
          "base_uri": "https://localhost:8080/"
        }
      },
      "execution_count": 14,
      "outputs": [
        {
          "output_type": "stream",
          "name": "stdout",
          "text": [
            "Found existing installation: umap 0.1.1\n",
            "Uninstalling umap-0.1.1:\n",
            "  Would remove:\n",
            "    /usr/local/lib/python3.8/dist-packages/umap-0.1.1.dist-info/*\n",
            "    /usr/local/lib/python3.8/dist-packages/umap/*\n",
            "  Would not remove (might be manually added):\n",
            "    /usr/local/lib/python3.8/dist-packages/umap/__pycache__/layouts.rdist-30.py38.1.nbc\n",
            "    /usr/local/lib/python3.8/dist-packages/umap/__pycache__/layouts.rdist-30.py38.nbi\n",
            "    /usr/local/lib/python3.8/dist-packages/umap/aligned_umap.py\n",
            "    /usr/local/lib/python3.8/dist-packages/umap/distances.py\n",
            "    /usr/local/lib/python3.8/dist-packages/umap/layouts.py\n",
            "    /usr/local/lib/python3.8/dist-packages/umap/parametric_umap.py\n",
            "    /usr/local/lib/python3.8/dist-packages/umap/plot.py\n",
            "    /usr/local/lib/python3.8/dist-packages/umap/sparse.py\n",
            "    /usr/local/lib/python3.8/dist-packages/umap/spectral.py\n",
            "    /usr/local/lib/python3.8/dist-packages/umap/umap_.py\n",
            "    /usr/local/lib/python3.8/dist-packages/umap/utils.py\n",
            "    /usr/local/lib/python3.8/dist-packages/umap/validation.py\n",
            "Proceed (y/n)? y\n",
            "  Successfully uninstalled umap-0.1.1\n",
            "Looking in indexes: https://pypi.org/simple, https://us-python.pkg.dev/colab-wheels/public/simple/\n",
            "Requirement already satisfied: umap-learn in /usr/local/lib/python3.8/dist-packages (0.5.3)\n",
            "Requirement already satisfied: numba>=0.49 in /usr/local/lib/python3.8/dist-packages (from umap-learn) (0.56.4)\n",
            "Requirement already satisfied: numpy>=1.17 in /usr/local/lib/python3.8/dist-packages (from umap-learn) (1.21.6)\n",
            "Requirement already satisfied: tqdm in /usr/local/lib/python3.8/dist-packages (from umap-learn) (4.64.1)\n",
            "Requirement already satisfied: pynndescent>=0.5 in /usr/local/lib/python3.8/dist-packages (from umap-learn) (0.5.8)\n",
            "Requirement already satisfied: scikit-learn>=0.22 in /usr/local/lib/python3.8/dist-packages (from umap-learn) (1.0.2)\n",
            "Requirement already satisfied: scipy>=1.0 in /usr/local/lib/python3.8/dist-packages (from umap-learn) (1.7.3)\n",
            "Requirement already satisfied: setuptools in /usr/local/lib/python3.8/dist-packages (from numba>=0.49->umap-learn) (57.4.0)\n",
            "Requirement already satisfied: importlib-metadata in /usr/local/lib/python3.8/dist-packages (from numba>=0.49->umap-learn) (4.13.0)\n",
            "Requirement already satisfied: llvmlite<0.40,>=0.39.0dev0 in /usr/local/lib/python3.8/dist-packages (from numba>=0.49->umap-learn) (0.39.1)\n",
            "Requirement already satisfied: joblib>=0.11 in /usr/local/lib/python3.8/dist-packages (from pynndescent>=0.5->umap-learn) (1.2.0)\n",
            "Requirement already satisfied: threadpoolctl>=2.0.0 in /usr/local/lib/python3.8/dist-packages (from scikit-learn>=0.22->umap-learn) (3.1.0)\n",
            "Requirement already satisfied: zipp>=0.5 in /usr/local/lib/python3.8/dist-packages (from importlib-metadata->numba>=0.49->umap-learn) (3.11.0)\n"
          ]
        }
      ]
    },
    {
      "cell_type": "code",
      "source": [
        "import umap.umap_ as umap\n",
        "import matplotlib.pyplot as plt\n",
        "\n",
        "mapper = umap.UMAP(metric='cosine', random_state=42, low_memory=True).fit(M_data)\n",
        "umap.plot.points(mapper, values=np.arange(900000), theme='viridis')"
      ],
      "metadata": {
        "id": "VJIDmqEccOws"
      },
      "execution_count": null,
      "outputs": []
    },
    {
      "cell_type": "code",
      "source": [
        "from scipy.sparse import csr_matrix\n",
        "print(csr_matrix(M_data[1]))"
      ],
      "metadata": {
        "id": "zEehFsQL4Gnr",
        "outputId": "02a618d2-256a-4754-e79e-830d80acace2",
        "colab": {
          "base_uri": "https://localhost:8080/"
        }
      },
      "execution_count": 10,
      "outputs": [
        {
          "output_type": "stream",
          "name": "stdout",
          "text": [
            "  (0, 2274)\t8.682397432067377\n",
            "  (0, 2944)\t25.109188786557834\n",
            "  (0, 2961)\t35.035771430725895\n",
            "  (0, 2962)\t41.41497281731176\n",
            "  (0, 2963)\t41.41497281731176\n",
            "  (0, 11103)\t8.970512939158844\n",
            "  (0, 11622)\t28.331012251916007\n",
            "  (0, 11628)\t33.23365550493392\n",
            "  (0, 11629)\t33.23365550493392\n",
            "  (0, 11630)\t33.23365550493392\n",
            "  (0, 93658)\t34.67543684259214\n",
            "  (0, 107036)\t9.811447961383472\n",
            "  (0, 173596)\t7.714913049103346\n",
            "  (0, 174727)\t16.242677377488587\n",
            "  (0, 174762)\t21.348454546017916\n",
            "  (0, 174765)\t21.372079587193586\n",
            "  (0, 174766)\t21.372079587193586\n",
            "  (0, 212722)\t14.057631672655347\n",
            "  (0, 253273)\t16.321194287465744\n",
            "  (0, 253274)\t24.587771780271105\n",
            "  (0, 253283)\t25.416309056872667\n",
            "  (0, 253298)\t35.14555924811861\n",
            "  (0, 253299)\t41.41497281731176\n",
            "  (0, 259353)\t12.720544496779981\n",
            "  (0, 259494)\t25.66157450701968\n",
            "  (0, 259495)\t33.96429057965418\n",
            "  (0, 259496)\t34.00492766453549\n",
            "  (0, 259497)\t34.00492766453549\n",
            "  (0, 344820)\t20.179325596802006\n",
            "  (0, 344828)\t21.370763095766456\n",
            "  (0, 344829)\t21.370763095766456\n",
            "  (0, 358092)\t7.848332299683216\n",
            "  (0, 358233)\t21.370763095766456\n",
            "  (0, 358234)\t21.370763095766456\n",
            "  (0, 372972)\t16.16899974610124\n",
            "  (0, 372977)\t16.620120825250957\n"
          ]
        }
      ]
    }
  ],
  "metadata": {
    "colab": {
      "name": "Welcome To Colaboratory",
      "provenance": [],
      "include_colab_link": true
    },
    "kernelspec": {
      "display_name": "Python 3",
      "name": "python3"
    }
  },
  "nbformat": 4,
  "nbformat_minor": 0
}