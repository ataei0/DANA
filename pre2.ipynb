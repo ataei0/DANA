{
  "cells": [
    {
      "cell_type": "markdown",
      "metadata": {
        "id": "view-in-github",
        "colab_type": "text"
      },
      "source": [
        "<a href=\"https://colab.research.google.com/github/ataei0/DANA/blob/master/pre2.ipynb\" target=\"_parent\"><img src=\"https://colab.research.google.com/assets/colab-badge.svg\" alt=\"Open In Colab\"/></a>"
      ]
    },
    {
      "cell_type": "markdown",
      "source": [
        "# **Reading data**\n",
        "\n",
        "First of all, we load our npz data to make sure what are its contents"
      ],
      "metadata": {
        "id": "JJqno1E3CROM"
      }
    },
    {
      "cell_type": "code",
      "source": [
        "from google.colab import drive\n",
        "drive.mount('/content/drive')"
      ],
      "metadata": {
        "id": "f33aWFsgyxGX",
        "outputId": "f9c15844-2f4e-4d7c-f46e-890964cf2cac",
        "colab": {
          "base_uri": "https://localhost:8080/"
        }
      },
      "execution_count": 2,
      "outputs": [
        {
          "output_type": "stream",
          "name": "stdout",
          "text": [
            "Mounted at /content/drive\n"
          ]
        }
      ]
    },
    {
      "cell_type": "code",
      "source": [
        "from numpy import load\n",
        "\n",
        "Data = load('/content/drive/MyDrive/Matrix Data/sparse_matrix.npz')\n",
        "lst = Data.files\n",
        "for item in lst:\n",
        "    print(item)\n",
        "    print(Data[item])"
      ],
      "metadata": {
        "id": "RfTTUbwjzHZg",
        "outputId": "a32e022f-5dd6-4a1b-93d7-2a5a6c88e2e9",
        "colab": {
          "base_uri": "https://localhost:8080/"
        }
      },
      "execution_count": null,
      "outputs": [
        {
          "output_type": "stream",
          "name": "stdout",
          "text": [
            "indices\n",
            "[ 11103  31853  31854 ... 276253 368921 384959]\n",
            "indptr\n",
            "[        0       192       228 ... 113376415 113376545 113376558]\n",
            "format\n",
            "b'csr'\n",
            "shape\n",
            "[933095 398351]\n",
            "data\n",
            "[ 1.75086936 12.19738324 12.20355765 ... 18.7720261  34.64588635\n",
            " 21.07869619]\n"
          ]
        }
      ]
    },
    {
      "cell_type": "markdown",
      "source": [
        "We have a csr_matrix (row compressed) data;\n",
        "to work with this data, we use scipy library as bellow"
      ],
      "metadata": {
        "id": "Cx76N3g_CilB"
      }
    },
    {
      "cell_type": "code",
      "source": [
        "!pip install scipy"
      ],
      "metadata": {
        "id": "yxGI7nhyzRcw",
        "outputId": "fd5c9fcf-1485-4af4-b606-9aef067232bc",
        "colab": {
          "base_uri": "https://localhost:8080/"
        }
      },
      "execution_count": 3,
      "outputs": [
        {
          "output_type": "stream",
          "name": "stdout",
          "text": [
            "Looking in indexes: https://pypi.org/simple, https://us-python.pkg.dev/colab-wheels/public/simple/\n",
            "Requirement already satisfied: scipy in /usr/local/lib/python3.8/dist-packages (1.7.3)\n",
            "Requirement already satisfied: numpy<1.23.0,>=1.16.5 in /usr/local/lib/python3.8/dist-packages (from scipy) (1.21.6)\n"
          ]
        }
      ]
    },
    {
      "cell_type": "code",
      "source": [
        "from scipy import sparse\n",
        "import numpy as np\n",
        "\n",
        "temp_data = np.load('/content/drive/MyDrive/Matrix Data/sparse_matrix.npz')\n",
        "M_data = sparse.csr_matrix((temp_data['data'], temp_data['indices'], temp_data['indptr']), shape = temp_data['shape']) "
      ],
      "metadata": {
        "id": "xjRxlqPb3auX"
      },
      "execution_count": 4,
      "outputs": []
    },
    {
      "cell_type": "code",
      "source": [
        "M_data[3]"
      ],
      "metadata": {
        "id": "dFhbpy4_C5f-",
        "outputId": "7645266a-9066-4536-b0cc-9a86168fecae",
        "colab": {
          "base_uri": "https://localhost:8080/"
        }
      },
      "execution_count": null,
      "outputs": [
        {
          "output_type": "execute_result",
          "data": {
            "text/plain": [
              "<1x398351 sparse matrix of type '<class 'numpy.float64'>'\n",
              "\twith 28 stored elements in Compressed Sparse Row format>"
            ]
          },
          "metadata": {},
          "execution_count": 21
        }
      ]
    },
    {
      "cell_type": "code",
      "source": [
        "M_data.getcol(0)"
      ],
      "metadata": {
        "id": "A8ywErqjp9Ot",
        "outputId": "19dcb137-a329-4a1c-84ab-d4f94fd26fbe",
        "colab": {
          "base_uri": "https://localhost:8080/"
        }
      },
      "execution_count": 5,
      "outputs": [
        {
          "output_type": "execute_result",
          "data": {
            "text/plain": [
              "<933095x1 sparse matrix of type '<class 'numpy.float64'>'\n",
              "\twith 156 stored elements in Compressed Sparse Row format>"
            ]
          },
          "metadata": {},
          "execution_count": 5
        }
      ]
    },
    {
      "cell_type": "markdown",
      "source": [
        "each column contains a lot of 0 terms, for getting a sense of our data we look at non-zero elemnts in it."
      ],
      "metadata": {
        "id": "7d94s8afDHrl"
      }
    },
    {
      "cell_type": "code",
      "source": [
        "from scipy.sparse import csr_matrix\n",
        "with open ('/content/drive/MyDrive/data0.txt', 'w') as f:\n",
        "  for i in range(398351):\n",
        "    f.write('Row: ' + str(i))\n",
        "    f.write(str(csr_matrix(M_data.getcol(i))))\n",
        "    f.write('\\n')\n"
      ],
      "metadata": {
        "id": "n2EPzr0L6EIr",
        "outputId": "3783d7c3-c899-4641-ed11-9e6301e36ef7",
        "colab": {
          "base_uri": "https://localhost:8080/",
          "height": 352
        }
      },
      "execution_count": 28,
      "outputs": [
        {
          "output_type": "error",
          "ename": "KeyboardInterrupt",
          "evalue": "ignored",
          "traceback": [
            "\u001b[0;31m---------------------------------------------------------------------------\u001b[0m",
            "\u001b[0;31mKeyboardInterrupt\u001b[0m                         Traceback (most recent call last)",
            "\u001b[0;32m<ipython-input-28-3dc2685faabb>\u001b[0m in \u001b[0;36m<module>\u001b[0;34m\u001b[0m\n\u001b[1;32m      3\u001b[0m   \u001b[0;32mfor\u001b[0m \u001b[0mi\u001b[0m \u001b[0;32min\u001b[0m \u001b[0mrange\u001b[0m\u001b[0;34m(\u001b[0m\u001b[0;36m398351\u001b[0m\u001b[0;34m)\u001b[0m\u001b[0;34m:\u001b[0m\u001b[0;34m\u001b[0m\u001b[0;34m\u001b[0m\u001b[0m\n\u001b[1;32m      4\u001b[0m     \u001b[0mf\u001b[0m\u001b[0;34m.\u001b[0m\u001b[0mwrite\u001b[0m\u001b[0;34m(\u001b[0m\u001b[0;34m'Row: '\u001b[0m \u001b[0;34m+\u001b[0m \u001b[0mstr\u001b[0m\u001b[0;34m(\u001b[0m\u001b[0mi\u001b[0m\u001b[0;34m)\u001b[0m\u001b[0;34m)\u001b[0m\u001b[0;34m\u001b[0m\u001b[0;34m\u001b[0m\u001b[0m\n\u001b[0;32m----> 5\u001b[0;31m     \u001b[0mf\u001b[0m\u001b[0;34m.\u001b[0m\u001b[0mwrite\u001b[0m\u001b[0;34m(\u001b[0m\u001b[0mstr\u001b[0m\u001b[0;34m(\u001b[0m\u001b[0mcsr_matrix\u001b[0m\u001b[0;34m(\u001b[0m\u001b[0mM_data\u001b[0m\u001b[0;34m.\u001b[0m\u001b[0mgetcol\u001b[0m\u001b[0;34m(\u001b[0m\u001b[0mi\u001b[0m\u001b[0;34m)\u001b[0m\u001b[0;34m)\u001b[0m\u001b[0;34m)\u001b[0m\u001b[0;34m)\u001b[0m\u001b[0;34m\u001b[0m\u001b[0;34m\u001b[0m\u001b[0m\n\u001b[0m\u001b[1;32m      6\u001b[0m     \u001b[0mf\u001b[0m\u001b[0;34m.\u001b[0m\u001b[0mwrite\u001b[0m\u001b[0;34m(\u001b[0m\u001b[0;34m'\\n'\u001b[0m\u001b[0;34m)\u001b[0m\u001b[0;34m\u001b[0m\u001b[0;34m\u001b[0m\u001b[0m\n",
            "\u001b[0;32m/usr/local/lib/python3.8/dist-packages/scipy/sparse/csr.py\u001b[0m in \u001b[0;36mgetcol\u001b[0;34m(self, i)\u001b[0m\n\u001b[1;32m    274\u001b[0m         \u001b[0;32mif\u001b[0m \u001b[0mi\u001b[0m \u001b[0;34m<\u001b[0m \u001b[0;36m0\u001b[0m \u001b[0;32mor\u001b[0m \u001b[0mi\u001b[0m \u001b[0;34m>=\u001b[0m \u001b[0mN\u001b[0m\u001b[0;34m:\u001b[0m\u001b[0;34m\u001b[0m\u001b[0;34m\u001b[0m\u001b[0m\n\u001b[1;32m    275\u001b[0m             \u001b[0;32mraise\u001b[0m \u001b[0mIndexError\u001b[0m\u001b[0;34m(\u001b[0m\u001b[0;34m'index (%d) out of range'\u001b[0m \u001b[0;34m%\u001b[0m \u001b[0mi\u001b[0m\u001b[0;34m)\u001b[0m\u001b[0;34m\u001b[0m\u001b[0;34m\u001b[0m\u001b[0m\n\u001b[0;32m--> 276\u001b[0;31m         indptr, indices, data = get_csr_submatrix(\n\u001b[0m\u001b[1;32m    277\u001b[0m             M, N, self.indptr, self.indices, self.data, 0, M, i, i + 1)\n\u001b[1;32m    278\u001b[0m         return csr_matrix((data, indices, indptr), shape=(M, 1),\n",
            "\u001b[0;31mKeyboardInterrupt\u001b[0m: "
          ]
        }
      ]
    },
    {
      "cell_type": "markdown",
      "source": [
        "# ploting data"
      ],
      "metadata": {
        "id": "VeDCbybrlx0J"
      }
    },
    {
      "cell_type": "code",
      "source": [
        "import matplotlib.pyplot as plt\n",
        "plt.spy(M_data)\n",
        "plt.show()"
      ],
      "metadata": {
        "id": "wVywLANaLFP4",
        "outputId": "d6219895-0bcb-4265-b126-087783342c4f",
        "colab": {
          "base_uri": "https://localhost:8080/",
          "height": 269
        }
      },
      "execution_count": null,
      "outputs": [
        {
          "output_type": "display_data",
          "data": {
            "text/plain": [
              "<Figure size 432x288 with 1 Axes>"
            ],
            "image/png": "[encoded data removed]"
          },
          "metadata": {
            "needs_background": "light"
          }
        }
      ]
    },
    {
      "cell_type": "code",
      "source": [
        "!pip install umap"
      ],
      "metadata": {
        "id": "M-50n126cSwJ",
        "outputId": "4838e242-8081-4242-fb6f-2bf946a6c0db",
        "colab": {
          "base_uri": "https://localhost:8080/"
        }
      },
      "execution_count": null,
      "outputs": [
        {
          "output_type": "stream",
          "name": "stdout",
          "text": [
            "Looking in indexes: https://pypi.org/simple, https://us-python.pkg.dev/colab-wheels/public/simple/\n",
            "Requirement already satisfied: umap in /usr/local/lib/python3.8/dist-packages (0.1.1)\n"
          ]
        }
      ]
    },
    {
      "cell_type": "code",
      "source": [
        "!pip install umap-learn[plot]"
      ],
      "metadata": {
        "id": "w5jj6I1IdVZZ",
        "outputId": "bc27ab81-ca1e-4f46-907d-eb09ccc77bad",
        "colab": {
          "base_uri": "https://localhost:8080/"
        }
      },
      "execution_count": null,
      "outputs": [
        {
          "output_type": "stream",
          "name": "stdout",
          "text": [
            "Looking in indexes: https://pypi.org/simple, https://us-python.pkg.dev/colab-wheels/public/simple/\n",
            "Requirement already satisfied: umap-learn[plot] in /usr/local/lib/python3.8/dist-packages (0.5.3)\n",
            "Requirement already satisfied: scipy>=1.0 in /usr/local/lib/python3.8/dist-packages (from umap-learn[plot]) (1.7.3)\n",
            "Requirement already satisfied: numba>=0.49 in /usr/local/lib/python3.8/dist-packages (from umap-learn[plot]) (0.56.4)\n",
            "Requirement already satisfied: tqdm in /usr/local/lib/python3.8/dist-packages (from umap-learn[plot]) (4.64.1)\n",
            "Requirement already satisfied: numpy>=1.17 in /usr/local/lib/python3.8/dist-packages (from umap-learn[plot]) (1.21.6)\n",
            "Requirement already satisfied: scikit-learn>=0.22 in /usr/local/lib/python3.8/dist-packages (from umap-learn[plot]) (1.0.2)\n",
            "Requirement already satisfied: pynndescent>=0.5 in /usr/local/lib/python3.8/dist-packages (from umap-learn[plot]) (0.5.8)\n",
            "Requirement already satisfied: holoviews in /usr/local/lib/python3.8/dist-packages (from umap-learn[plot]) (1.14.9)\n",
            "Requirement already satisfied: scikit-image in /usr/local/lib/python3.8/dist-packages (from umap-learn[plot]) (0.18.3)\n",
            "Collecting datashader\n",
            "  Downloading datashader-0.14.3-py2.py3-none-any.whl (18.2 MB)\n",
            "\u001b[K     |████████████████████████████████| 18.2 MB 5.7 MB/s \n",
            "\u001b[?25hRequirement already satisfied: matplotlib in /usr/local/lib/python3.8/dist-packages (from umap-learn[plot]) (3.2.2)\n",
            "Requirement already satisfied: bokeh in /usr/local/lib/python3.8/dist-packages (from umap-learn[plot]) (2.3.3)\n",
            "Requirement already satisfied: seaborn in /usr/local/lib/python3.8/dist-packages (from umap-learn[plot]) (0.11.2)\n",
            "Requirement already satisfied: colorcet in /usr/local/lib/python3.8/dist-packages (from umap-learn[plot]) (3.0.1)\n",
            "Requirement already satisfied: pandas in /usr/local/lib/python3.8/dist-packages (from umap-learn[plot]) (1.3.5)\n",
            "Requirement already satisfied: llvmlite<0.40,>=0.39.0dev0 in /usr/local/lib/python3.8/dist-packages (from numba>=0.49->umap-learn[plot]) (0.39.1)\n",
            "Requirement already satisfied: setuptools in /usr/local/lib/python3.8/dist-packages (from numba>=0.49->umap-learn[plot]) (57.4.0)\n",
            "Requirement already satisfied: importlib-metadata in /usr/local/lib/python3.8/dist-packages (from numba>=0.49->umap-learn[plot]) (4.13.0)\n",
            "Requirement already satisfied: joblib>=0.11 in /usr/local/lib/python3.8/dist-packages (from pynndescent>=0.5->umap-learn[plot]) (1.2.0)\n",
            "Requirement already satisfied: threadpoolctl>=2.0.0 in /usr/local/lib/python3.8/dist-packages (from scikit-learn>=0.22->umap-learn[plot]) (3.1.0)\n",
            "Requirement already satisfied: pillow>=7.1.0 in /usr/local/lib/python3.8/dist-packages (from bokeh->umap-learn[plot]) (7.1.2)\n",
            "Requirement already satisfied: packaging>=16.8 in /usr/local/lib/python3.8/dist-packages (from bokeh->umap-learn[plot]) (21.3)\n",
            "Requirement already satisfied: tornado>=5.1 in /usr/local/lib/python3.8/dist-packages (from bokeh->umap-learn[plot]) (6.0.4)\n",
            "Requirement already satisfied: typing-extensions>=3.7.4 in /usr/local/lib/python3.8/dist-packages (from bokeh->umap-learn[plot]) (4.4.0)\n",
            "Requirement already satisfied: python-dateutil>=2.1 in /usr/local/lib/python3.8/dist-packages (from bokeh->umap-learn[plot]) (2.8.2)\n",
            "Requirement already satisfied: PyYAML>=3.10 in /usr/local/lib/python3.8/dist-packages (from bokeh->umap-learn[plot]) (6.0)\n",
            "Requirement already satisfied: Jinja2>=2.9 in /usr/local/lib/python3.8/dist-packages (from bokeh->umap-learn[plot]) (2.11.3)\n",
            "Requirement already satisfied: MarkupSafe>=0.23 in /usr/local/lib/python3.8/dist-packages (from Jinja2>=2.9->bokeh->umap-learn[plot]) (2.0.1)\n",
            "Requirement already satisfied: pyparsing!=3.0.5,>=2.0.2 in /usr/local/lib/python3.8/dist-packages (from packaging>=16.8->bokeh->umap-learn[plot]) (3.0.9)\n",
            "Requirement already satisfied: six>=1.5 in /usr/local/lib/python3.8/dist-packages (from python-dateutil>=2.1->bokeh->umap-learn[plot]) (1.15.0)\n",
            "Requirement already satisfied: pyct>=0.4.4 in /usr/local/lib/python3.8/dist-packages (from colorcet->umap-learn[plot]) (0.4.8)\n",
            "Requirement already satisfied: param>=1.7.0 in /usr/local/lib/python3.8/dist-packages (from pyct>=0.4.4->colorcet->umap-learn[plot]) (1.12.2)\n",
            "Requirement already satisfied: requests in /usr/local/lib/python3.8/dist-packages (from datashader->umap-learn[plot]) (2.23.0)\n",
            "Requirement already satisfied: dask in /usr/local/lib/python3.8/dist-packages (from datashader->umap-learn[plot]) (2022.2.1)\n",
            "Requirement already satisfied: toolz in /usr/local/lib/python3.8/dist-packages (from datashader->umap-learn[plot]) (0.12.0)\n",
            "Collecting datashape\n",
            "  Downloading datashape-0.5.2.tar.gz (76 kB)\n",
            "\u001b[K     |████████████████████████████████| 76 kB 6.1 MB/s \n",
            "\u001b[?25hRequirement already satisfied: xarray in /usr/local/lib/python3.8/dist-packages (from datashader->umap-learn[plot]) (0.20.2)\n",
            "Requirement already satisfied: cloudpickle>=1.1.1 in /usr/local/lib/python3.8/dist-packages (from dask->datashader->umap-learn[plot]) (1.5.0)\n",
            "Requirement already satisfied: fsspec>=0.6.0 in /usr/local/lib/python3.8/dist-packages (from dask->datashader->umap-learn[plot]) (2022.11.0)\n",
            "Requirement already satisfied: partd>=0.3.10 in /usr/local/lib/python3.8/dist-packages (from dask->datashader->umap-learn[plot]) (1.3.0)\n",
            "Requirement already satisfied: locket in /usr/local/lib/python3.8/dist-packages (from partd>=0.3.10->dask->datashader->umap-learn[plot]) (1.0.0)\n",
            "Requirement already satisfied: multipledispatch>=0.4.7 in /usr/local/lib/python3.8/dist-packages (from datashape->datashader->umap-learn[plot]) (0.6.0)\n",
            "Requirement already satisfied: pyviz-comms>=0.7.4 in /usr/local/lib/python3.8/dist-packages (from holoviews->umap-learn[plot]) (2.2.1)\n",
            "Requirement already satisfied: panel>=0.8.0 in /usr/local/lib/python3.8/dist-packages (from holoviews->umap-learn[plot]) (0.12.1)\n",
            "Requirement already satisfied: pytz>=2017.3 in /usr/local/lib/python3.8/dist-packages (from pandas->umap-learn[plot]) (2022.6)\n",
            "Requirement already satisfied: markdown in /usr/local/lib/python3.8/dist-packages (from panel>=0.8.0->holoviews->umap-learn[plot]) (3.4.1)\n",
            "Requirement already satisfied: bleach in /usr/local/lib/python3.8/dist-packages (from panel>=0.8.0->holoviews->umap-learn[plot]) (5.0.1)\n",
            "Requirement already satisfied: webencodings in /usr/local/lib/python3.8/dist-packages (from bleach->panel>=0.8.0->holoviews->umap-learn[plot]) (0.5.1)\n",
            "Requirement already satisfied: zipp>=0.5 in /usr/local/lib/python3.8/dist-packages (from importlib-metadata->numba>=0.49->umap-learn[plot]) (3.11.0)\n",
            "Requirement already satisfied: kiwisolver>=1.0.1 in /usr/local/lib/python3.8/dist-packages (from matplotlib->umap-learn[plot]) (1.4.4)\n",
            "Requirement already satisfied: cycler>=0.10 in /usr/local/lib/python3.8/dist-packages (from matplotlib->umap-learn[plot]) (0.11.0)\n",
            "Requirement already satisfied: chardet<4,>=3.0.2 in /usr/local/lib/python3.8/dist-packages (from requests->datashader->umap-learn[plot]) (3.0.4)\n",
            "Requirement already satisfied: idna<3,>=2.5 in /usr/local/lib/python3.8/dist-packages (from requests->datashader->umap-learn[plot]) (2.10)\n",
            "Requirement already satisfied: certifi>=2017.4.17 in /usr/local/lib/python3.8/dist-packages (from requests->datashader->umap-learn[plot]) (2022.9.24)\n",
            "Requirement already satisfied: urllib3!=1.25.0,!=1.25.1,<1.26,>=1.21.1 in /usr/local/lib/python3.8/dist-packages (from requests->datashader->umap-learn[plot]) (1.24.3)\n",
            "Requirement already satisfied: networkx>=2.0 in /usr/local/lib/python3.8/dist-packages (from scikit-image->umap-learn[plot]) (2.8.8)\n",
            "Requirement already satisfied: imageio>=2.3.0 in /usr/local/lib/python3.8/dist-packages (from scikit-image->umap-learn[plot]) (2.9.0)\n",
            "Requirement already satisfied: tifffile>=2019.7.26 in /usr/local/lib/python3.8/dist-packages (from scikit-image->umap-learn[plot]) (2022.10.10)\n",
            "Requirement already satisfied: PyWavelets>=1.1.1 in /usr/local/lib/python3.8/dist-packages (from scikit-image->umap-learn[plot]) (1.4.1)\n",
            "Building wheels for collected packages: datashape\n",
            "  Building wheel for datashape (setup.py) ... \u001b[?25l\u001b[?25hdone\n",
            "  Created wheel for datashape: filename=datashape-0.5.2-py3-none-any.whl size=59439 sha256=55718d4d83cf8f5648504e779caff20b374a30755fec61b1cb79abf970c32819\n",
            "  Stored in directory: /root/.cache/pip/wheels/6d/79/c4/c425774559165f472d32e5ef592ff9a71179abb31f05dbc98b\n",
            "Successfully built datashape\n",
            "Installing collected packages: datashape, datashader\n",
            "Successfully installed datashader-0.14.3 datashape-0.5.2\n"
          ]
        }
      ]
    },
    {
      "cell_type": "code",
      "source": [
        "!pip uninstall umap\n",
        "!pip install umap-learn"
      ],
      "metadata": {
        "id": "XDcIBRPdfaBH",
        "outputId": "2aa0f180-f7b3-4f18-b3c1-3f31280d2b1c",
        "colab": {
          "base_uri": "https://localhost:8080/"
        }
      },
      "execution_count": null,
      "outputs": [
        {
          "output_type": "stream",
          "name": "stdout",
          "text": [
            "Found existing installation: umap 0.1.1\n",
            "Uninstalling umap-0.1.1:\n",
            "  Would remove:\n",
            "    /usr/local/lib/python3.8/dist-packages/umap-0.1.1.dist-info/*\n",
            "    /usr/local/lib/python3.8/dist-packages/umap/*\n",
            "  Would not remove (might be manually added):\n",
            "    /usr/local/lib/python3.8/dist-packages/umap/__pycache__/layouts.rdist-30.py38.1.nbc\n",
            "    /usr/local/lib/python3.8/dist-packages/umap/__pycache__/layouts.rdist-30.py38.nbi\n",
            "    /usr/local/lib/python3.8/dist-packages/umap/aligned_umap.py\n",
            "    /usr/local/lib/python3.8/dist-packages/umap/distances.py\n",
            "    /usr/local/lib/python3.8/dist-packages/umap/layouts.py\n",
            "    /usr/local/lib/python3.8/dist-packages/umap/parametric_umap.py\n",
            "    /usr/local/lib/python3.8/dist-packages/umap/plot.py\n",
            "    /usr/local/lib/python3.8/dist-packages/umap/sparse.py\n",
            "    /usr/local/lib/python3.8/dist-packages/umap/spectral.py\n",
            "    /usr/local/lib/python3.8/dist-packages/umap/umap_.py\n",
            "    /usr/local/lib/python3.8/dist-packages/umap/utils.py\n",
            "    /usr/local/lib/python3.8/dist-packages/umap/validation.py\n",
            "Proceed (y/n)? y\n",
            "  Successfully uninstalled umap-0.1.1\n",
            "Looking in indexes: https://pypi.org/simple, https://us-python.pkg.dev/colab-wheels/public/simple/\n",
            "Requirement already satisfied: umap-learn in /usr/local/lib/python3.8/dist-packages (0.5.3)\n",
            "Requirement already satisfied: numba>=0.49 in /usr/local/lib/python3.8/dist-packages (from umap-learn) (0.56.4)\n",
            "Requirement already satisfied: numpy>=1.17 in /usr/local/lib/python3.8/dist-packages (from umap-learn) (1.21.6)\n",
            "Requirement already satisfied: tqdm in /usr/local/lib/python3.8/dist-packages (from umap-learn) (4.64.1)\n",
            "Requirement already satisfied: pynndescent>=0.5 in /usr/local/lib/python3.8/dist-packages (from umap-learn) (0.5.8)\n",
            "Requirement already satisfied: scikit-learn>=0.22 in /usr/local/lib/python3.8/dist-packages (from umap-learn) (1.0.2)\n",
            "Requirement already satisfied: scipy>=1.0 in /usr/local/lib/python3.8/dist-packages (from umap-learn) (1.7.3)\n",
            "Requirement already satisfied: setuptools in /usr/local/lib/python3.8/dist-packages (from numba>=0.49->umap-learn) (57.4.0)\n",
            "Requirement already satisfied: importlib-metadata in /usr/local/lib/python3.8/dist-packages (from numba>=0.49->umap-learn) (4.13.0)\n",
            "Requirement already satisfied: llvmlite<0.40,>=0.39.0dev0 in /usr/local/lib/python3.8/dist-packages (from numba>=0.49->umap-learn) (0.39.1)\n",
            "Requirement already satisfied: joblib>=0.11 in /usr/local/lib/python3.8/dist-packages (from pynndescent>=0.5->umap-learn) (1.2.0)\n",
            "Requirement already satisfied: threadpoolctl>=2.0.0 in /usr/local/lib/python3.8/dist-packages (from scikit-learn>=0.22->umap-learn) (3.1.0)\n",
            "Requirement already satisfied: zipp>=0.5 in /usr/local/lib/python3.8/dist-packages (from importlib-metadata->numba>=0.49->umap-learn) (3.11.0)\n"
          ]
        }
      ]
    },
    {
      "cell_type": "code",
      "source": [
        "import umap.umap_ as umap\n",
        "import matplotlib.pyplot as plt\n",
        "\n",
        "mapper = umap.UMAP(metric='cosine', random_state=42, low_memory=True).fit(M_data)\n",
        "umap.plot.points(mapper, values=np.arange(900000), theme='viridis')"
      ],
      "metadata": {
        "id": "VJIDmqEccOws"
      },
      "execution_count": null,
      "outputs": []
    },
    {
      "cell_type": "markdown",
      "source": [
        "# Normal check"
      ],
      "metadata": {
        "id": "mb34TXMql5Zf"
      }
    },
    {
      "cell_type": "code",
      "source": [
        "from scipy.sparse import csr_matrix\n",
        "print(csr_matrix(M_data.getcol(1)))"
      ],
      "metadata": {
        "id": "zEehFsQL4Gnr",
        "outputId": "1db8be9c-9770-449f-e4b6-e538706ad22b",
        "colab": {
          "base_uri": "https://localhost:8080/"
        }
      },
      "execution_count": 29,
      "outputs": [
        {
          "output_type": "stream",
          "name": "stdout",
          "text": [
            "  (2, 0)\t1.9791656970814844\n",
            "  (19, 0)\t3.422634003956647\n",
            "  (26, 0)\t0.5851951576104653\n",
            "  (34, 0)\t2.7236897033937715\n",
            "  (40, 0)\t3.4459044427326626\n",
            "  (57, 0)\t2.846047203797674\n",
            "  (58, 0)\t1.9338552598495222\n",
            "  (70, 0)\t3.3770234430243455\n",
            "  (79, 0)\t7.884570894487485\n",
            "  (83, 0)\t1.3959050335455176\n",
            "  (86, 0)\t2.261801743482552\n",
            "  (94, 0)\t13.854992688958108\n",
            "  (102, 0)\t3.175985917412672\n",
            "  (115, 0)\t8.38920485988784\n",
            "  (125, 0)\t2.085011808590095\n",
            "  (143, 0)\t1.6240227647202088\n",
            "  (147, 0)\t9.201510636401729\n",
            "  (159, 0)\t2.7911891627733723\n",
            "  (176, 0)\t3.670505887683686\n",
            "  (209, 0)\t0.7597674762451476\n",
            "  (216, 0)\t5.256764986757091\n",
            "  (219, 0)\t12.968687644147057\n",
            "  (255, 0)\t2.1110656882121233\n",
            "  (259, 0)\t0.2383852387538654\n",
            "  (260, 0)\t13.87606640125658\n",
            "  :\t:\n",
            "  (932791, 0)\t2.193286252773407\n",
            "  (932792, 0)\t1.3026248360419603\n",
            "  (932811, 0)\t2.2821709250657056\n",
            "  (932833, 0)\t17.03764641471179\n",
            "  (932840, 0)\t2.0679969132421543\n",
            "  (932864, 0)\t2.465338935638288\n",
            "  (932904, 0)\t2.8783738143429396\n",
            "  (932906, 0)\t6.618192602735019\n",
            "  (932912, 0)\t1.1064124647959146\n",
            "  (932961, 0)\t17.428228637027903\n",
            "  (932966, 0)\t9.037434590635593\n",
            "  (932972, 0)\t0.4831146342398276\n",
            "  (932976, 0)\t6.027850176337226\n",
            "  (932984, 0)\t3.9882216635621024\n",
            "  (932992, 0)\t2.0347868516081244\n",
            "  (933002, 0)\t17.133641479742487\n",
            "  (933033, 0)\t4.168638513472165\n",
            "  (933034, 0)\t2.119895615048057\n",
            "  (933038, 0)\t0.33276388366917614\n",
            "  (933051, 0)\t0.1663863535087513\n",
            "  (933059, 0)\t0.9525363479763991\n",
            "  (933069, 0)\t1.8225865648078734\n",
            "  (933079, 0)\t1.8160558870449883\n",
            "  (933081, 0)\t3.9674086080833657\n",
            "  (933092, 0)\t9.037434590635593\n"
          ]
        }
      ]
    },
    {
      "cell_type": "markdown",
      "source": [
        "We should check the sum of columns not to be 1, so its not normalized over columns."
      ],
      "metadata": {
        "id": "lWNacDkToZqb"
      }
    },
    {
      "cell_type": "code",
      "source": [
        "M_data.sum(axis=0)"
      ],
      "metadata": {
        "id": "jmdUmuwjmeRF",
        "outputId": "046a4c9f-565f-4db3-ac0e-966fd49ca78a",
        "colab": {
          "base_uri": "https://localhost:8080/"
        }
      },
      "execution_count": 16,
      "outputs": [
        {
          "output_type": "execute_result",
          "data": {
            "text/plain": [
              "matrix([[5.99386637e+02, 2.90973254e+05, 3.30081082e+04, ...,\n",
              "         2.84721641e+01, 2.96022720e+01, 3.07104059e+01]])"
            ]
          },
          "metadata": {},
          "execution_count": 16
        }
      ]
    },
    {
      "cell_type": "markdown",
      "source": [
        "# Normalizing\n",
        "\n",
        "we attemp to normalize our data with 2 different ways using skleran library:\n",
        "\n",
        "\n",
        "> 1. over columns (M_data_normalized_C is its sparse matrix)\n",
        "\n",
        "\n",
        "> 2. over both columns and rows (M_data_normalized_RC is its sparse matrix)\n",
        "\n",
        "\n",
        "\n"
      ],
      "metadata": {
        "id": "ObDueP3Tk6nD"
      }
    },
    {
      "cell_type": "code",
      "source": [
        "!pip install sklearn"
      ],
      "metadata": {
        "id": "P9-ctZrmnSIG",
        "outputId": "db64e3aa-51da-49c7-e191-6df78ff5a6e8",
        "colab": {
          "base_uri": "https://localhost:8080/"
        }
      },
      "execution_count": 7,
      "outputs": [
        {
          "output_type": "stream",
          "name": "stdout",
          "text": [
            "Looking in indexes: https://pypi.org/simple, https://us-python.pkg.dev/colab-wheels/public/simple/\n",
            "Collecting sklearn\n",
            "  Downloading sklearn-0.0.post1.tar.gz (3.6 kB)\n",
            "Building wheels for collected packages: sklearn\n",
            "  Building wheel for sklearn (setup.py) ... \u001b[?25l\u001b[?25hdone\n",
            "  Created wheel for sklearn: filename=sklearn-0.0.post1-py3-none-any.whl size=2344 sha256=9b5cc14d2184d7db3f161b5cceb819e09092151b9e58c3538d0cc69c586d5f6c\n",
            "  Stored in directory: /root/.cache/pip/wheels/14/25/f7/1cc0956978ae479e75140219088deb7a36f60459df242b1a72\n",
            "Successfully built sklearn\n",
            "Installing collected packages: sklearn\n",
            "Successfully installed sklearn-0.0.post1\n"
          ]
        }
      ]
    },
    {
      "cell_type": "code",
      "source": [
        "from sklearn import *\n",
        "from sklearn.preprocessing import normalize\n",
        "#normalizing data over columns:\n",
        "M_data_normalized_C = normalize(M_data, norm='l1', axis=0)\n",
        "#normalizing data over rows:\n",
        "M_data_normalized_R = normalize(M_data, norm='l1', axis=1)"
      ],
      "metadata": {
        "id": "WJS8yxYQniiV"
      },
      "execution_count": 8,
      "outputs": []
    },
    {
      "cell_type": "code",
      "source": [
        "from scipy.sparse import csr_matrix\n",
        "print(csr_matrix(M_data_normalized_C.getcol(76454)))"
      ],
      "metadata": {
        "id": "f64F04Unn4IF",
        "outputId": "07ef2169-fdc7-49e6-facd-f8f95f7d7d21",
        "colab": {
          "base_uri": "https://localhost:8080/"
        }
      },
      "execution_count": 10,
      "outputs": [
        {
          "output_type": "stream",
          "name": "stdout",
          "text": [
            "  (14934, 0)\t0.03515021992374439\n",
            "  (70153, 0)\t0.021820576828983265\n",
            "  (87521, 0)\t0.010194105201996652\n",
            "  (178045, 0)\t0.10129099121922339\n",
            "  (191205, 0)\t0.003980258091772798\n",
            "  (199286, 0)\t0.018018729166719993\n",
            "  (272219, 0)\t0.020423018309388842\n",
            "  (322829, 0)\t0.33682884892381654\n",
            "  (337739, 0)\t0.04646005398316955\n",
            "  (347354, 0)\t0.012683272279241707\n",
            "  (474496, 0)\t0.3181580240625511\n",
            "  (475116, 0)\t0.007183232565226506\n",
            "  (594389, 0)\t0.04254290903916482\n",
            "  (724324, 0)\t0.014715637516529496\n",
            "  (845638, 0)\t0.010550122888470913\n"
          ]
        }
      ]
    },
    {
      "cell_type": "code",
      "source": [
        "M_data_normalized_C.getcol(654).sum(axis=0)"
      ],
      "metadata": {
        "id": "zDr843dFoYHr",
        "outputId": "09e182de-a2d8-43a0-ca68-b4cec2f293a7",
        "colab": {
          "base_uri": "https://localhost:8080/"
        }
      },
      "execution_count": 11,
      "outputs": [
        {
          "output_type": "execute_result",
          "data": {
            "text/plain": [
              "matrix([[1.]])"
            ]
          },
          "metadata": {},
          "execution_count": 11
        }
      ]
    },
    {
      "cell_type": "code",
      "source": [
        "M_data_normalized_R[654].sum(axis=1)"
      ],
      "metadata": {
        "id": "AE1kklryjTO7",
        "outputId": "bbc89096-6a5f-4f46-b02a-585c8ba8f990",
        "colab": {
          "base_uri": "https://localhost:8080/"
        }
      },
      "execution_count": 13,
      "outputs": [
        {
          "output_type": "execute_result",
          "data": {
            "text/plain": [
              "matrix([[1.]])"
            ]
          },
          "metadata": {},
          "execution_count": 13
        }
      ]
    },
    {
      "cell_type": "code",
      "source": [
        "#normalizing over both columns and rows:\n",
        "temp = M_data_normalized_C.multiply(M_data_normalized_R)\n",
        "M_data_normalized_RC = temp.sqrt()"
      ],
      "metadata": {
        "id": "W-r34FE1j3Hy"
      },
      "execution_count": 14,
      "outputs": []
    },
    {
      "cell_type": "code",
      "source": [
        "print(csr_matrix(M_data_normalized_RC.getcol(76454)))"
      ],
      "metadata": {
        "id": "PAbKXKCvknJE",
        "outputId": "747ac3c1-d384-4f21-f110-14c729e6eedb",
        "colab": {
          "base_uri": "https://localhost:8080/"
        }
      },
      "execution_count": 15,
      "outputs": [
        {
          "output_type": "stream",
          "name": "stdout",
          "text": [
            "  (14934, 0)\t0.014630636352057526\n",
            "  (70153, 0)\t0.009201580715149434\n",
            "  (87521, 0)\t0.004145968013510361\n",
            "  (178045, 0)\t0.0434490843479452\n",
            "  (191205, 0)\t0.0015932870272804202\n",
            "  (199286, 0)\t0.007158215388002847\n",
            "  (272219, 0)\t0.008356592754383623\n",
            "  (322829, 0)\t0.20499651699158689\n",
            "  (337739, 0)\t0.019739228197798338\n",
            "  (347354, 0)\t0.005136670797446522\n",
            "  (474496, 0)\t0.1696265291772877\n",
            "  (475116, 0)\t0.0028400792672730307\n",
            "  (594389, 0)\t0.01703445933830228\n",
            "  (724324, 0)\t0.005822699657967096\n",
            "  (845638, 0)\t0.004130527049418551\n"
          ]
        }
      ]
    },
    {
      "cell_type": "markdown",
      "source": [
        "# Column wise Difference Calculation"
      ],
      "metadata": {
        "id": "lfMSoa2TmToU"
      }
    }
  ],
  "metadata": {
    "colab": {
      "name": "Welcome To Colaboratory",
      "provenance": [],
      "include_colab_link": true
    },
    "kernelspec": {
      "display_name": "Python 3",
      "name": "python3"
    }
  },
  "nbformat": 4,
  "nbformat_minor": 0
}